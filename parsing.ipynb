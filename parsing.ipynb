{
 "cells": [
  {
   "cell_type": "code",
   "execution_count": 1,
   "metadata": {},
   "outputs": [
    {
     "name": "stdout",
     "output_type": "stream",
     "text": [
      "WARNING:tensorflow:From c:\\Users\\janna\\AppData\\Local\\Programs\\Python\\Python39\\lib\\site-packages\\keras\\src\\losses.py:2976: The name tf.losses.sparse_softmax_cross_entropy is deprecated. Please use tf.compat.v1.losses.sparse_softmax_cross_entropy instead.\n",
      "\n"
     ]
    }
   ],
   "source": [
    "import spacy"
   ]
  },
  {
   "cell_type": "code",
   "execution_count": 2,
   "metadata": {},
   "outputs": [],
   "source": [
    "nlp = spacy.load(\"pt_core_news_sm\")"
   ]
  },
  {
   "cell_type": "code",
   "execution_count": 3,
   "metadata": {},
   "outputs": [
    {
     "name": "stdout",
     "output_type": "stream",
     "text": [
      "Palavra: O, Papel gramatical: det, Palavra cabeça: gato\n",
      "Palavra: gato, Papel gramatical: nsubj, Palavra cabeça: telhado\n",
      "Palavra: está, Papel gramatical: cop, Palavra cabeça: telhado\n",
      "Palavra: no, Papel gramatical: case, Palavra cabeça: telhado\n",
      "Palavra: telhado, Papel gramatical: ROOT, Palavra cabeça: telhado\n",
      "Palavra: ., Papel gramatical: punct, Palavra cabeça: telhado\n"
     ]
    }
   ],
   "source": [
    "texto = \"O gato está no telhado.\"\n",
    "\n",
    "doc = nlp(texto)\n",
    "\n",
    "for token in doc:\n",
    "    print(f\"Palavra: {token.text}, Papel gramatical: {token.dep_}, Palavra cabeça: {token.head.text}\")"
   ]
  },
  {
   "cell_type": "code",
   "execution_count": null,
   "metadata": {},
   "outputs": [],
   "source": []
  }
 ],
 "metadata": {
  "kernelspec": {
   "display_name": "Python 3",
   "language": "python",
   "name": "python3"
  },
  "language_info": {
   "codemirror_mode": {
    "name": "ipython",
    "version": 3
   },
   "file_extension": ".py",
   "mimetype": "text/x-python",
   "name": "python",
   "nbconvert_exporter": "python",
   "pygments_lexer": "ipython3",
   "version": "3.9.7"
  }
 },
 "nbformat": 4,
 "nbformat_minor": 2
}
