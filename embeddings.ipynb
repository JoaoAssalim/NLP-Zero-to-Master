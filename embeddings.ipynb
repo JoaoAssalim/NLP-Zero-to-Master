{
 "cells": [
  {
   "cell_type": "markdown",
   "metadata": {},
   "source": [
    "## Word2Vec"
   ]
  },
  {
   "cell_type": "code",
   "execution_count": 13,
   "metadata": {},
   "outputs": [],
   "source": [
    "# https://radimrehurek.com/gensim/models/word2vec.html"
   ]
  },
  {
   "cell_type": "markdown",
   "metadata": {},
   "source": [
    "### Build own word2vec embedding"
   ]
  },
  {
   "cell_type": "code",
   "execution_count": 2,
   "metadata": {},
   "outputs": [],
   "source": [
    "from gensim.test.utils import common_texts\n",
    "from gensim.models import Word2Vec\n",
    "\n",
    "model = Word2Vec(sentences=common_texts, vector_size=100, window=5, min_count=1, workers=4)"
   ]
  },
  {
   "cell_type": "code",
   "execution_count": null,
   "metadata": {},
   "outputs": [
    {
     "data": {
      "text/plain": [
       "[['human', 'interface', 'computer'],\n",
       " ['survey', 'user', 'computer', 'system', 'response', 'time'],\n",
       " ['eps', 'user', 'interface', 'system'],\n",
       " ['system', 'human', 'system', 'eps'],\n",
       " ['user', 'response', 'time'],\n",
       " ['trees'],\n",
       " ['graph', 'trees'],\n",
       " ['graph', 'minors', 'trees'],\n",
       " ['graph', 'minors', 'survey']]"
      ]
     },
     "execution_count": 3,
     "metadata": {},
     "output_type": "execute_result"
    }
   ],
   "source": [
    "common_texts"
   ]
  },
  {
   "cell_type": "code",
   "execution_count": 4,
   "metadata": {},
   "outputs": [],
   "source": [
    "vector = model.wv['computer']"
   ]
  },
  {
   "cell_type": "code",
   "execution_count": 6,
   "metadata": {},
   "outputs": [
    {
     "data": {
      "text/plain": [
       "[('system', 0.21617139875888824),\n",
       " ('survey', 0.04468922317028046),\n",
       " ('interface', 0.015203381888568401),\n",
       " ('time', 0.0019510635174810886),\n",
       " ('trees', -0.03284316882491112),\n",
       " ('human', -0.07424270361661911),\n",
       " ('response', -0.09317591041326523),\n",
       " ('graph', -0.09575342386960983),\n",
       " ('eps', -0.10513808578252792),\n",
       " ('user', -0.16911619901657104)]"
      ]
     },
     "execution_count": 6,
     "metadata": {},
     "output_type": "execute_result"
    }
   ],
   "source": [
    "sims = model.wv.most_similar('computer', topn=10)\n",
    "sims"
   ]
  },
  {
   "cell_type": "code",
   "execution_count": 8,
   "metadata": {},
   "outputs": [
    {
     "data": {
      "text/plain": [
       "{'vector_size': 100,\n",
       " 'index_to_key': ['system',\n",
       "  'graph',\n",
       "  'trees',\n",
       "  'user',\n",
       "  'minors',\n",
       "  'eps',\n",
       "  'time',\n",
       "  'response',\n",
       "  'survey',\n",
       "  'computer',\n",
       "  'interface',\n",
       "  'human'],\n",
       " 'next_index': 0,\n",
       " 'key_to_index': {'system': 0,\n",
       "  'graph': 1,\n",
       "  'trees': 2,\n",
       "  'user': 3,\n",
       "  'minors': 4,\n",
       "  'eps': 5,\n",
       "  'time': 6,\n",
       "  'response': 7,\n",
       "  'survey': 8,\n",
       "  'computer': 9,\n",
       "  'interface': 10,\n",
       "  'human': 11},\n",
       " 'vectors': array([[-5.3622725e-04,  2.3643136e-04,  5.1033497e-03, ...,\n",
       "         -7.0415605e-03,  9.0145587e-04,  6.3925339e-03],\n",
       "        [-8.6196875e-03,  3.6657380e-03,  5.1898835e-03, ...,\n",
       "         -2.3915148e-03, -9.5100943e-03,  4.5058788e-03],\n",
       "        [ 9.4563962e-05,  3.0773198e-03, -6.8126451e-03, ...,\n",
       "          5.1259040e-04,  8.2130842e-03, -7.0190406e-03],\n",
       "        ...,\n",
       "        [-5.1577436e-03, -6.6702785e-03, -7.7790986e-03, ...,\n",
       "          5.8376994e-03,  9.3939463e-03,  3.5079459e-03],\n",
       "        [ 7.0871473e-03, -1.5683770e-03,  7.9461383e-03, ...,\n",
       "         -5.4809595e-03,  3.8159827e-03, -8.1130695e-03],\n",
       "        [ 9.7702928e-03,  8.1651136e-03,  1.2809718e-03, ...,\n",
       "         -2.9727400e-03, -4.9318983e-03, -2.3151112e-03]], dtype=float32),\n",
       " 'norms': array([0.0565417 , 0.05798756, 0.05685247, 0.05800581, 0.0578139 ,\n",
       "        0.06315628, 0.05547585, 0.05631283, 0.05714066, 0.05653497,\n",
       "        0.05724747, 0.05487779], dtype=float32),\n",
       " 'expandos': {'count': array([4, 3, 3, 3, 2, 2, 2, 2, 2, 2, 2, 2], dtype=int64),\n",
       "  'sample_int': array([396841800, 463795800, 463795800, 463795800, 579459574, 579459574,\n",
       "         579459574, 579459574, 579459574, 579459574, 579459574, 579459574],\n",
       "        dtype=uint32)},\n",
       " 'mapfile_path': None,\n",
       " 'vectors_lockf': array([1.], dtype=float32)}"
      ]
     },
     "execution_count": 8,
     "metadata": {},
     "output_type": "execute_result"
    }
   ],
   "source": [
    "vars(model.wv)"
   ]
  },
  {
   "cell_type": "markdown",
   "metadata": {},
   "source": [
    "### Download word2vec embedding"
   ]
  },
  {
   "cell_type": "code",
   "execution_count": 9,
   "metadata": {},
   "outputs": [],
   "source": [
    "import gensim.downloader"
   ]
  },
  {
   "cell_type": "code",
   "execution_count": 10,
   "metadata": {},
   "outputs": [
    {
     "name": "stdout",
     "output_type": "stream",
     "text": [
      "['fasttext-wiki-news-subwords-300', 'conceptnet-numberbatch-17-06-300', 'word2vec-ruscorpora-300', 'word2vec-google-news-300', 'glove-wiki-gigaword-50', 'glove-wiki-gigaword-100', 'glove-wiki-gigaword-200', 'glove-wiki-gigaword-300', 'glove-twitter-25', 'glove-twitter-50', 'glove-twitter-100', 'glove-twitter-200', '__testing_word2vec-matrix-synopsis']\n"
     ]
    }
   ],
   "source": [
    "print(list(gensim.downloader.info()['models'].keys()))"
   ]
  },
  {
   "cell_type": "code",
   "execution_count": 11,
   "metadata": {},
   "outputs": [
    {
     "name": "stdout",
     "output_type": "stream",
     "text": [
      "[==================================================] 100.0% 104.8/104.8MB downloaded\n"
     ]
    }
   ],
   "source": [
    "glove_vectors = gensim.downloader.load('glove-twitter-25')"
   ]
  },
  {
   "cell_type": "code",
   "execution_count": 12,
   "metadata": {},
   "outputs": [
    {
     "data": {
      "text/plain": [
       "[('facebook', 0.948005199432373),\n",
       " ('tweet', 0.9403423070907593),\n",
       " ('fb', 0.9342358708381653),\n",
       " ('instagram', 0.9104824066162109),\n",
       " ('chat', 0.8964964747428894),\n",
       " ('hashtag', 0.8885937333106995),\n",
       " ('tweets', 0.8878158330917358),\n",
       " ('tl', 0.8778461217880249),\n",
       " ('link', 0.8778210878372192),\n",
       " ('internet', 0.8753897547721863)]"
      ]
     },
     "execution_count": 12,
     "metadata": {},
     "output_type": "execute_result"
    }
   ],
   "source": [
    "glove_vectors.most_similar('twitter')"
   ]
  },
  {
   "cell_type": "markdown",
   "metadata": {},
   "source": [
    "## Doc2Vec"
   ]
  },
  {
   "cell_type": "code",
   "execution_count": 14,
   "metadata": {},
   "outputs": [],
   "source": [
    "# https://radimrehurek.com/gensim/models/doc2vec.html#gensim.models.doc2vec.Doc2Vec"
   ]
  },
  {
   "cell_type": "code",
   "execution_count": 15,
   "metadata": {},
   "outputs": [],
   "source": [
    "from gensim.test.utils import common_texts\n",
    "from gensim.models.doc2vec import Doc2Vec, TaggedDocument\n",
    "\n",
    "documents = [TaggedDocument(doc, [i]) for i, doc in enumerate(common_texts)]\n",
    "model = Doc2Vec(documents, vector_size=5, window=2, min_count=1, workers=4)"
   ]
  },
  {
   "cell_type": "code",
   "execution_count": 16,
   "metadata": {},
   "outputs": [],
   "source": [
    "vector = model.infer_vector([\"system\", \"response\"])"
   ]
  },
  {
   "cell_type": "code",
   "execution_count": 17,
   "metadata": {},
   "outputs": [
    {
     "data": {
      "text/plain": [
       "array([-0.09129732,  0.01977961,  0.08609653,  0.07478146, -0.0532991 ],\n",
       "      dtype=float32)"
      ]
     },
     "execution_count": 17,
     "metadata": {},
     "output_type": "execute_result"
    }
   ],
   "source": [
    "vector"
   ]
  },
  {
   "cell_type": "markdown",
   "metadata": {},
   "source": [
    "## Example with tensorflow"
   ]
  },
  {
   "cell_type": "code",
   "execution_count": 23,
   "metadata": {},
   "outputs": [],
   "source": [
    "from gensim.models.doc2vec import TaggedDocument\n",
    "\n",
    "documents = [\n",
    "    \"Esse é um exemplo de texto para o modelo.\",\n",
    "    \"Outro exemplo de texto para treinar.\",\n",
    "    \"Mais um documento para processar.\"\n",
    "]\n",
    "\n",
    "tagged_data = [TaggedDocument(words=doc.split(), tags=[str(i)]) for i, doc in enumerate(documents)]"
   ]
  },
  {
   "cell_type": "code",
   "execution_count": 24,
   "metadata": {},
   "outputs": [
    {
     "data": {
      "text/plain": [
       "[TaggedDocument(words=['Esse', 'é', 'um', 'exemplo', 'de', 'texto', 'para', 'o', 'modelo.'], tags=['0']),\n",
       " TaggedDocument(words=['Outro', 'exemplo', 'de', 'texto', 'para', 'treinar.'], tags=['1']),\n",
       " TaggedDocument(words=['Mais', 'um', 'documento', 'para', 'processar.'], tags=['2'])]"
      ]
     },
     "execution_count": 24,
     "metadata": {},
     "output_type": "execute_result"
    }
   ],
   "source": [
    "tagged_data"
   ]
  },
  {
   "cell_type": "code",
   "execution_count": 25,
   "metadata": {},
   "outputs": [],
   "source": [
    "from gensim.models import Doc2Vec\n",
    "\n",
    "doc2vec_model = Doc2Vec(vector_size=100, window=5, min_count=1, workers=4, epochs=20)\n",
    "\n",
    "doc2vec_model.build_vocab(tagged_data)\n",
    "\n",
    "doc2vec_model.train(tagged_data, total_examples=doc2vec_model.corpus_count, epochs=doc2vec_model.epochs)"
   ]
  },
  {
   "cell_type": "code",
   "execution_count": 31,
   "metadata": {},
   "outputs": [],
   "source": [
    "doc_vectors = [doc2vec_model.dv[str(i)] for i in range(len(documents))]"
   ]
  },
  {
   "cell_type": "code",
   "execution_count": 32,
   "metadata": {},
   "outputs": [
    {
     "data": {
      "text/plain": [
       "[array([-0.00532877, -0.00607249, -0.00990345,  0.00859518,  0.00361673,\n",
       "         0.00023243, -0.00989265, -0.00518328, -0.0097438 ,  0.00204311,\n",
       "         0.00281175,  0.00467462, -0.00436783, -0.00320414, -0.00303782,\n",
       "        -0.0087573 ,  0.00214723,  0.00926725, -0.0095561 , -0.00347284,\n",
       "        -0.00381653,  0.00259803, -0.00569828,  0.00270216,  0.0057809 ,\n",
       "        -0.00813431, -0.00841817, -0.00998776,  0.00493612, -0.00918214,\n",
       "         0.00586194,  0.00680537, -0.00649284, -0.00457284, -0.00129231,\n",
       "         0.00167649, -0.00152271, -0.00861853, -0.00365438,  0.0016958 ,\n",
       "        -0.00200163, -0.00721857,  0.00424815, -0.00863997,  0.00268743,\n",
       "        -0.00464412,  0.00065236, -0.00200517,  0.00540339, -0.00810504,\n",
       "        -0.00219556, -0.00011445, -0.00669978, -0.00661449, -0.00196804,\n",
       "         0.00890698, -0.00124255,  0.00361745, -0.00578501,  0.00888245,\n",
       "         0.00297204,  0.00940106,  0.00444463, -0.00423215,  0.00224025,\n",
       "        -0.00442523,  0.00583886,  0.00187582, -0.00229409, -0.00589737,\n",
       "        -0.00811093, -0.00082961, -0.00899311, -0.00923663, -0.0079273 ,\n",
       "         0.00218552, -0.0065558 , -0.00787069,  0.00209169,  0.0020363 ,\n",
       "         0.00838198,  0.00475555, -0.00948482, -0.0003366 ,  0.00783824,\n",
       "         0.00276959,  0.00269918, -0.00493887,  0.0064916 ,  0.00168608,\n",
       "        -0.00771137,  0.00690478, -0.00985732, -0.00818069, -0.00485984,\n",
       "         0.01005155,  0.00314221, -0.00205362,  0.00901493,  0.00234804],\n",
       "       dtype=float32),\n",
       " array([-0.00564996, -0.00325971, -0.00598399,  0.00377427, -0.00679872,\n",
       "        -0.0020458 , -0.00113512,  0.00731396,  0.00666939,  0.00344094,\n",
       "        -0.00012923, -0.004682  , -0.00203364, -0.00545155,  0.0089514 ,\n",
       "        -0.00861672, -0.01000948, -0.00074371,  0.00362924,  0.00809184,\n",
       "         0.00887707,  0.00624548, -0.00623939,  0.00874422, -0.00946739,\n",
       "         0.00069825, -0.00670381, -0.0008143 ,  0.00264002, -0.00774477,\n",
       "         0.00397709,  0.00142627, -0.00051177,  0.00618884, -0.00441428,\n",
       "        -0.00165031,  0.00100222,  0.00285508, -0.00879302, -0.00512982,\n",
       "         0.00793766,  0.00094096,  0.00374749, -0.00938666, -0.00199391,\n",
       "         0.00215454,  0.00258182,  0.00897719,  0.00028391, -0.0047911 ,\n",
       "        -0.00335414,  0.00962002,  0.00743621, -0.00896832, -0.00363078,\n",
       "         0.00552448,  0.00090624,  0.00883834, -0.00589408, -0.00304432,\n",
       "         0.00845026,  0.00555044,  0.00882265, -0.0031854 ,  0.0023041 ,\n",
       "        -0.00686708, -0.00589698, -0.00589125, -0.00835201, -0.00222051,\n",
       "         0.00349094, -0.00160686,  0.00296124,  0.00509039,  0.00748773,\n",
       "         0.00255996,  0.0078908 , -0.00405804, -0.00482235, -0.00119307,\n",
       "         0.00591036,  0.0048267 , -0.00835108, -0.00293353, -0.00808701,\n",
       "         0.00881169, -0.00197652, -0.00013473,  0.00864277,  0.00185127,\n",
       "        -0.00752295,  0.00680234,  0.00465861,  0.00793506, -0.00389218,\n",
       "         0.0045029 ,  0.00489109, -0.00410516,  0.0022519 ,  0.00532478],\n",
       "       dtype=float32),\n",
       " array([-0.00792422, -0.0092458 ,  0.00839457, -0.00431888,  0.00970646,\n",
       "        -0.00267887,  0.00960114, -0.00597239,  0.00332914,  0.00443531,\n",
       "        -0.00868153,  0.00521602, -0.00662115, -0.0037478 ,  0.00459399,\n",
       "         0.00948627, -0.00283391, -0.00304948,  0.00023115, -0.0005785 ,\n",
       "        -0.00974908, -0.00789688,  0.00576655,  0.00721804, -0.00467321,\n",
       "         0.00327881, -0.00129382,  0.00348286, -0.00620561,  0.00283969,\n",
       "        -0.00490138, -0.00658254,  0.00852486, -0.00785926, -0.00300088,\n",
       "         0.00441025, -0.00840984, -0.00478083,  0.00081662, -0.00586677,\n",
       "         0.00889488,  0.00900956,  0.00745067,  0.00279137, -0.00502088,\n",
       "        -0.00050262, -0.00199244,  0.00619376, -0.00696875, -0.00874175,\n",
       "        -0.00971825, -0.00801066, -0.00645094, -0.00235981, -0.00237109,\n",
       "         0.00633519,  0.0045231 ,  0.00523589,  0.00260531,  0.00205763,\n",
       "         0.00461199,  0.00882183,  0.00538666,  0.00202633, -0.00207252,\n",
       "         0.00518259,  0.00725701,  0.00924102,  0.00649415,  0.00463711,\n",
       "        -0.00995876,  0.00347373, -0.00198552,  0.00386485,  0.00638631,\n",
       "        -0.00226754, -0.00874655, -0.00237939, -0.00510729, -0.00371672,\n",
       "        -0.00555667,  0.00518975,  0.00065733,  0.0001888 , -0.00479316,\n",
       "         0.00971795,  0.00059483, -0.0025433 , -0.00919184,  0.00286253,\n",
       "        -0.00763801, -0.00461988, -0.00910689,  0.00128509,  0.00834562,\n",
       "         0.00594353, -0.00313444, -0.0011814 ,  0.00975394, -0.00679274],\n",
       "       dtype=float32)]"
      ]
     },
     "execution_count": 32,
     "metadata": {},
     "output_type": "execute_result"
    }
   ],
   "source": [
    "doc_vectors"
   ]
  },
  {
   "cell_type": "code",
   "execution_count": null,
   "metadata": {},
   "outputs": [],
   "source": [
    "import tensorflow as tf\n",
    "\n",
    "X = tf.constant(doc_vectors, dtype=tf.float32)\n",
    "y = tf.constant([0, 1, 1])\n",
    "\n",
    "model = tf.keras.Sequential([\n",
    "    tf.keras.layers.Dense(128, activation='relu', input_shape=(100,)),\n",
    "    tf.keras.layers.Dense(64, activation='relu'),\n",
    "    tf.keras.layers.Dense(1, activation='sigmoid')\n",
    "])\n",
    "\n",
    "model.compile(optimizer='adam', loss='binary_crossentropy', metrics=['accuracy'])\n",
    "\n",
    "model.fit(X, y, epochs=10, batch_size=2)"
   ]
  }
 ],
 "metadata": {
  "kernelspec": {
   "display_name": "Python 3",
   "language": "python",
   "name": "python3"
  },
  "language_info": {
   "codemirror_mode": {
    "name": "ipython",
    "version": 3
   },
   "file_extension": ".py",
   "mimetype": "text/x-python",
   "name": "python",
   "nbconvert_exporter": "python",
   "pygments_lexer": "ipython3",
   "version": "3.9.7"
  }
 },
 "nbformat": 4,
 "nbformat_minor": 2
}
